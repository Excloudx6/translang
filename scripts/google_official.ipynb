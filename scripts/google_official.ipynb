{
 "cells": [
  {
   "attachments": {},
   "cell_type": "markdown",
   "metadata": {},
   "source": [
    "# Google Official Translation API\n",
    "https://codelabs.developers.google.com/codelabs/cloud-translation-python3#2"
   ]
  },
  {
   "cell_type": "code",
   "execution_count": null,
   "metadata": {},
   "outputs": [],
   "source": [
    "!pip install google-cloud-translate==2.0.1"
   ]
  },
  {
   "cell_type": "code",
   "execution_count": null,
   "metadata": {},
   "outputs": [],
   "source": [
    "from os import environ\n",
    "\n",
    "from google.cloud import translate\n",
    "\n",
    "\n",
    "PROJECT_ID = environ.get(\"PROJECT_ID\", \"\")\n",
    "assert PROJECT_ID\n",
    "PARENT = f\"projects/{PROJECT_ID}\""
   ]
  },
  {
   "cell_type": "code",
   "execution_count": null,
   "metadata": {},
   "outputs": [],
   "source": [
    "def print_supported_languages(display_language_code: str):\n",
    "    client = translate.TranslationServiceClient()\n",
    "\n",
    "    response = client.get_supported_languages(\n",
    "        parent=PARENT,\n",
    "        display_language_code=display_language_code,\n",
    "    )\n",
    "\n",
    "    languages = response.languages\n",
    "    print(f\" Languages: {len(languages)} \".center(60, \"-\"))\n",
    "    for language in languages:\n",
    "        language_code = language.language_code\n",
    "        display_name = language.display_name\n",
    "        print(f\"{language_code:10}{display_name}\")\n",
    "    "
   ]
  },
  {
   "cell_type": "code",
   "execution_count": null,
   "metadata": {},
   "outputs": [],
   "source": [
    "from google.cloud import translate_v2 as translate\n",
    "\n",
    "def translate_text(text, target_language, api_key):\n",
    "    # Initialize the translation client with the API key\n",
    "    translate_client = translate.Client(api_key=api_key)\n",
    "\n",
    "    # Perform translation\n",
    "    result = translate_client.translate(text, target_language=target_language)\n",
    "\n",
    "    # Return the translated text\n",
    "    return result['translatedText']\n",
    "\n",
    "\n",
    "# Example usage\n",
    "text = \"Hello, world!\"  # Text to translate\n",
    "target_language = \"fr\"  # Target language code (e.g., \"fr\" for French)\n",
    "api_key = \"YOUR_API_KEY\"  # Replace with your actual API key\n",
    "\n",
    "translated_text = translate_text(text, target_language, api_key)\n",
    "print(translated_text)\n"
   ]
  }
 ],
 "metadata": {
  "kernelspec": {
   "display_name": "test",
   "language": "python",
   "name": "test"
  },
  "language_info": {
   "codemirror_mode": {
    "name": "ipython",
    "version": 3
   },
   "file_extension": ".py",
   "mimetype": "text/x-python",
   "name": "python",
   "nbconvert_exporter": "python",
   "pygments_lexer": "ipython3",
   "version": "3.9.12"
  },
  "orig_nbformat": 4
 },
 "nbformat": 4,
 "nbformat_minor": 2
}
