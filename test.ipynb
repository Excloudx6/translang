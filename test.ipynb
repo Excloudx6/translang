{
 "cells": [
  {
   "cell_type": "code",
   "execution_count": 1,
   "metadata": {},
   "outputs": [],
   "source": [
    "from translang import TranslationService"
   ]
  },
  {
   "cell_type": "code",
   "execution_count": null,
   "metadata": {},
   "outputs": [],
   "source": [
    "translator = TranslationService(translator=\"google\")\n",
    "translated_text = translator.translate(\"What is most highest artifact?\", \"ko\")\n",
    "print(translated_text)"
   ]
  },
  {
   "cell_type": "code",
   "execution_count": null,
   "metadata": {},
   "outputs": [],
   "source": [
    "translator = TranslationService(translator=\"bard\", bard_api_key='xxxxxxxxx')\n",
    "translated_text = translator.translate(\"What is most highest artifact?\", \"korean\")\n",
    "print(translated_text)"
   ]
  },
  {
   "cell_type": "code",
   "execution_count": 3,
   "metadata": {},
   "outputs": [
    {
     "name": "stdout",
     "output_type": "stream",
     "text": [
      "Original: Hello\n",
      "Translated: 안녕하세요\n",
      "-----\n",
      "Original: Nice to meet you\n",
      "Translated: 만나서 반가워요\n",
      "-----\n",
      "Original: Testing the translation service\n",
      "Translated: 번역 서비스 테스트\n",
      "-----\n"
     ]
    }
   ],
   "source": [
    "# Create an instance of TranslationService\n",
    "translator = TranslationService(translator=\"google\", use_cache=True)\n",
    "\n",
    "# List of texts to translate\n",
    "texts = [\n",
    "    \"Hello\",\n",
    "    \"Nice to meet you\",\n",
    "    \"Testing the translation service\"\n",
    "]\n",
    "\n",
    "# Destination language code\n",
    "dest_lang = \"ko\"\n",
    "\n",
    "# Call the translate_parallel method\n",
    "translated_texts = translator.translate_parallel(texts, dest_lang)\n",
    "\n",
    "# Print the translated texts\n",
    "for text, translated_text in zip(texts, translated_texts):\n",
    "    print(f\"Original: {text}\")\n",
    "    print(f\"Translated: {translated_text}\")\n",
    "    print(\"-----\")\n"
   ]
  }
 ],
 "metadata": {
  "kernelspec": {
   "display_name": "test",
   "language": "python",
   "name": "python3"
  },
  "language_info": {
   "codemirror_mode": {
    "name": "ipython",
    "version": 3
   },
   "file_extension": ".py",
   "mimetype": "text/x-python",
   "name": "python",
   "nbconvert_exporter": "python",
   "pygments_lexer": "ipython3",
   "version": "3.11.3"
  },
  "orig_nbformat": 4
 },
 "nbformat": 4,
 "nbformat_minor": 2
}
